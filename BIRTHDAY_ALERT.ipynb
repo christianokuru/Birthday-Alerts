{
  "nbformat": 4,
  "nbformat_minor": 0,
  "metadata": {
    "colab": {
      "provenance": [],
      "authorship_tag": "ABX9TyMMn0pbhNr2iLPq9xalPK/j",
      "include_colab_link": true
    },
    "kernelspec": {
      "name": "python3",
      "display_name": "Python 3"
    },
    "language_info": {
      "name": "python"
    }
  },
  "cells": [
    {
      "cell_type": "markdown",
      "metadata": {
        "id": "view-in-github",
        "colab_type": "text"
      },
      "source": [
        "<a href=\"https://colab.research.google.com/github/christianokuru/Birthday-Alerts/blob/main/BIRTHDAY_ALERT.ipynb\" target=\"_parent\"><img src=\"https://colab.research.google.com/assets/colab-badge.svg\" alt=\"Open In Colab\"/></a>"
      ]
    },
    {
      "cell_type": "code",
      "execution_count": 23,
      "metadata": {
        "id": "CnQufNG7kZAq"
      },
      "outputs": [],
      "source": [
        "import json\n",
        "import requests\n",
        "import time\n",
        "import socket\n",
        "from datetime import datetime, timedelta"
      ]
    },
    {
      "cell_type": "code",
      "source": [
        "def get_details():\n",
        "  name = input(\"Enter name: \")\n",
        "  birthday = input(\"Enter Birthday(MM/DD): \")\n",
        "  phone_number = input(\"Enter Phone Number: \")\n",
        "  email = input(\"Enter Email Address: \")\n",
        "  return{\"name\": name, \"birthday\": birthday, \"phone_number\": phone_number, \"email\": email}"
      ],
      "metadata": {
        "id": "4M8x1I6Pk8qH"
      },
      "execution_count": 24,
      "outputs": []
    },
    {
      "cell_type": "code",
      "source": [
        "def save_details(details):\n",
        "  with open(\"details.json\", \"w\") as f:\n",
        "    json.dump(details, f)"
      ],
      "metadata": {
        "id": "e8dalinFmfOw"
      },
      "execution_count": 25,
      "outputs": []
    },
    {
      "cell_type": "code",
      "source": [
        "def check_internet_connection():\n",
        "  try:\n",
        "    host = socket.gethostbyname(\"www.google.com\")\n",
        "    s = socket.create_connection((host, 80), 2)\n",
        "    return True\n",
        "  except OSError:\n",
        "    print(\"NO INTERNET CONNECTION\")\n",
        "  return False"
      ],
      "metadata": {
        "id": "dhDMb1t8xmBP"
      },
      "execution_count": 31,
      "outputs": []
    },
    {
      "cell_type": "code",
      "source": [
        "def list_birthdays():\n",
        "  with open(\"details.json\", \"r\") as cow:\n",
        "    details = json.load(cow)\n",
        "  print(\"Saved Birthdays: \")\n",
        "  for person in details:\n",
        "    name = person[\"name\"]\n",
        "    birthday = person[\"birthday\"]\n",
        "    print(\"{}: {}\".format(name, birthday))"
      ],
      "metadata": {
        "id": "q9YYDKbBqpVF"
      },
      "execution_count": 17,
      "outputs": []
    },
    {
      "cell_type": "code",
      "source": [
        "def send_whatsapp_message(phone_number, message):\n",
        "  if check_internet_connection():\n",
        "      url = \"https://api.whatsapp.com/v1/messages\"\n",
        "      headers = {\n",
        "          \"Authorization\": \"Bearer <your_auth_token>\",\n",
        "          \"Content-Type\": \"application/json\"\n",
        "      }\n",
        "      payload = {\n",
        "          \"phoneNumber\": phone_number,\n",
        "          \"message\": message\n",
        "      }\n",
        "      response = requests.post(url, headers=headers, json=payload)\n",
        "      if response.status_code == 200:\n",
        "          print(\"Message sent successfully\")\n",
        "      else:\n",
        "          print(\"Failed to send message\")"
      ],
      "metadata": {
        "id": "fsdRJqPEnHi5"
      },
      "execution_count": 29,
      "outputs": []
    },
    {
      "cell_type": "code",
      "source": [
        "def remind_birthday():\n",
        "    with open(\"details.json\", \"r\") as f:\n",
        "        details = json.load(f)\n",
        "    today = datetime.today().strftime(\"%m/%d\")\n",
        "    for person in details:\n",
        "        name = person[\"name\"]\n",
        "        birthday = person[\"birthday\"]\n",
        "        phone_number = person[\"phone_number\"]\n",
        "        if birthday == today:\n",
        "            message = \"Happy birthday {}!\".format(name)\n",
        "            send_whatsapp_message(phone_number, message)\n",
        "            print(\"Sent birthday message to {}\".format(name))\n",
        "        else:\n",
        "          print(\"NO BIRTHDAYS TODAY!!\")"
      ],
      "metadata": {
        "id": "x1irAyeInj6W"
      },
      "execution_count": 33,
      "outputs": []
    },
    {
      "cell_type": "code",
      "source": [
        "def keep_checking_birthdays():\n",
        "    while True:\n",
        "        remind_birthday()\n",
        "        time.sleep(86400) # check every 24 hours"
      ],
      "metadata": {
        "id": "om2moFvJnun7"
      },
      "execution_count": 34,
      "outputs": []
    },
    {
      "cell_type": "code",
      "source": [
        "if __name__ == \"__main__\":\n",
        "    details = []\n",
        "    while True:\n",
        "        print(\"What would you like to do?\")\n",
        "        print(\"Enter '1' to add a person's details\")\n",
        "        print(\"Enter '2' to send Reminders\")\n",
        "        print(\"Enter '3' to keep checking for birthdays\")\n",
        "        print(\"Enter '4' to list all saved birthdays\")\n",
        "        print(\"Enter '5' to quit\")\n",
        "        choice = input(\"Enter your choice \")\n",
        "\n",
        "        if choice == \"1\":\n",
        "            details.append(get_details())\n",
        "            save_details(details)\n",
        "        elif choice == \"2\":\n",
        "            remind_birthday()\n",
        "        elif choice == \"3\":\n",
        "            keep_checking_birthdays()\n",
        "        elif choice == \"4\":\n",
        "            list_birthdays()\n",
        "        elif choice == \"5\":\n",
        "            break\n",
        "        else:\n",
        "            print(\"Invalid option, please try again\")"
      ],
      "metadata": {
        "id": "NzPfXGq6oDJR"
      },
      "execution_count": null,
      "outputs": []
    }
  ]
}